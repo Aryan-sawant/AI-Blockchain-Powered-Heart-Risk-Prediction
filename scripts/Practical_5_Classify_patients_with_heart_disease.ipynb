{
  "cells": [
    {
      "cell_type": "code",
      "execution_count": 1,
      "metadata": {
        "id": "7qbRILxosO5q"
      },
      "outputs": [],
      "source": [
        "import pandas as pd\n",
        "import numpy as np\n",
        "from sklearn.model_selection import train_test_split\n",
        "from sklearn.preprocessing import StandardScaler, LabelEncoder\n",
        "import optuna\n",
        "from sklearn.ensemble import RandomForestClassifier\n",
        "from sklearn.metrics import accuracy_score,classification_report\n",
        "import pickle"
      ]
    },
    {
      "cell_type": "code",
      "execution_count": 2,
      "metadata": {
        "id": "vB4A_dIG0qk7"
      },
      "outputs": [],
      "source": [
        "# Load the dataset\n",
        "url = \"./heart.csv\"\n",
        "data = pd.read_csv(url)"
      ]
    },
    {
      "cell_type": "code",
      "execution_count": 3,
      "metadata": {},
      "outputs": [],
      "source": [
        "data = data.apply(pd.to_numeric, errors='coerce')"
      ]
    },
    {
      "cell_type": "code",
      "execution_count": 4,
      "metadata": {
        "colab": {
          "base_uri": "https://localhost:8080/",
          "height": 206
        },
        "id": "fE69gKJTZEqn",
        "outputId": "20ba71df-d919-4a99-8a3a-517cf1bfff8d"
      },
      "outputs": [
        {
          "data": {
            "text/html": [
              "<div>\n",
              "<style scoped>\n",
              "    .dataframe tbody tr th:only-of-type {\n",
              "        vertical-align: middle;\n",
              "    }\n",
              "\n",
              "    .dataframe tbody tr th {\n",
              "        vertical-align: top;\n",
              "    }\n",
              "\n",
              "    .dataframe thead th {\n",
              "        text-align: right;\n",
              "    }\n",
              "</style>\n",
              "<table border=\"1\" class=\"dataframe\">\n",
              "  <thead>\n",
              "    <tr style=\"text-align: right;\">\n",
              "      <th></th>\n",
              "      <th>age</th>\n",
              "      <th>sex</th>\n",
              "      <th>cp</th>\n",
              "      <th>trestbps</th>\n",
              "      <th>chol</th>\n",
              "      <th>fbs</th>\n",
              "      <th>restecg</th>\n",
              "      <th>thalach</th>\n",
              "      <th>exang</th>\n",
              "      <th>oldpeak</th>\n",
              "      <th>slope</th>\n",
              "      <th>ca</th>\n",
              "      <th>thal</th>\n",
              "      <th>target</th>\n",
              "    </tr>\n",
              "  </thead>\n",
              "  <tbody>\n",
              "    <tr>\n",
              "      <th>0</th>\n",
              "      <td>52</td>\n",
              "      <td>1</td>\n",
              "      <td>0</td>\n",
              "      <td>125</td>\n",
              "      <td>212</td>\n",
              "      <td>0</td>\n",
              "      <td>1</td>\n",
              "      <td>168</td>\n",
              "      <td>0</td>\n",
              "      <td>1.0</td>\n",
              "      <td>2</td>\n",
              "      <td>2</td>\n",
              "      <td>3</td>\n",
              "      <td>0</td>\n",
              "    </tr>\n",
              "    <tr>\n",
              "      <th>1</th>\n",
              "      <td>53</td>\n",
              "      <td>1</td>\n",
              "      <td>0</td>\n",
              "      <td>140</td>\n",
              "      <td>203</td>\n",
              "      <td>1</td>\n",
              "      <td>0</td>\n",
              "      <td>155</td>\n",
              "      <td>1</td>\n",
              "      <td>3.1</td>\n",
              "      <td>0</td>\n",
              "      <td>0</td>\n",
              "      <td>3</td>\n",
              "      <td>0</td>\n",
              "    </tr>\n",
              "    <tr>\n",
              "      <th>2</th>\n",
              "      <td>70</td>\n",
              "      <td>1</td>\n",
              "      <td>0</td>\n",
              "      <td>145</td>\n",
              "      <td>174</td>\n",
              "      <td>0</td>\n",
              "      <td>1</td>\n",
              "      <td>125</td>\n",
              "      <td>1</td>\n",
              "      <td>2.6</td>\n",
              "      <td>0</td>\n",
              "      <td>0</td>\n",
              "      <td>3</td>\n",
              "      <td>0</td>\n",
              "    </tr>\n",
              "    <tr>\n",
              "      <th>3</th>\n",
              "      <td>61</td>\n",
              "      <td>1</td>\n",
              "      <td>0</td>\n",
              "      <td>148</td>\n",
              "      <td>203</td>\n",
              "      <td>0</td>\n",
              "      <td>1</td>\n",
              "      <td>161</td>\n",
              "      <td>0</td>\n",
              "      <td>0.0</td>\n",
              "      <td>2</td>\n",
              "      <td>1</td>\n",
              "      <td>3</td>\n",
              "      <td>0</td>\n",
              "    </tr>\n",
              "    <tr>\n",
              "      <th>4</th>\n",
              "      <td>62</td>\n",
              "      <td>0</td>\n",
              "      <td>0</td>\n",
              "      <td>138</td>\n",
              "      <td>294</td>\n",
              "      <td>1</td>\n",
              "      <td>1</td>\n",
              "      <td>106</td>\n",
              "      <td>0</td>\n",
              "      <td>1.9</td>\n",
              "      <td>1</td>\n",
              "      <td>3</td>\n",
              "      <td>2</td>\n",
              "      <td>0</td>\n",
              "    </tr>\n",
              "  </tbody>\n",
              "</table>\n",
              "</div>"
            ],
            "text/plain": [
              "   age  sex  cp  trestbps  chol  fbs  restecg  thalach  exang  oldpeak  slope  \\\n",
              "0   52    1   0       125   212    0        1      168      0      1.0      2   \n",
              "1   53    1   0       140   203    1        0      155      1      3.1      0   \n",
              "2   70    1   0       145   174    0        1      125      1      2.6      0   \n",
              "3   61    1   0       148   203    0        1      161      0      0.0      2   \n",
              "4   62    0   0       138   294    1        1      106      0      1.9      1   \n",
              "\n",
              "   ca  thal  target  \n",
              "0   2     3       0  \n",
              "1   0     3       0  \n",
              "2   0     3       0  \n",
              "3   1     3       0  \n",
              "4   3     2       0  "
            ]
          },
          "execution_count": 4,
          "metadata": {},
          "output_type": "execute_result"
        }
      ],
      "source": [
        "# Checking the first few rows\n",
        "data.head()"
      ]
    },
    {
      "cell_type": "code",
      "execution_count": 5,
      "metadata": {
        "colab": {
          "base_uri": "https://localhost:8080/"
        },
        "id": "stANSnHqwfrA",
        "outputId": "764d415b-7f6e-4dce-ad88-d7c92f4413a4"
      },
      "outputs": [],
      "source": [
        "# Handle missing values\n",
        "data.replace('?', np.nan, inplace=True)"
      ]
    },
    {
      "cell_type": "code",
      "execution_count": 6,
      "metadata": {},
      "outputs": [],
      "source": [
        "data.fillna(data.median(), inplace=True)"
      ]
    },
    {
      "cell_type": "code",
      "execution_count": 7,
      "metadata": {
        "id": "QyKZbj2MqgSH"
      },
      "outputs": [],
      "source": [
        "\n",
        "# Encode categorical variables\n",
        "label_encoder = LabelEncoder()\n",
        "for col in ['sex', 'cp', 'restecg', 'exang', 'slope', 'ca', 'thal']:\n",
        "    data[col] = label_encoder.fit_transform(data[col])"
      ]
    },
    {
      "cell_type": "code",
      "execution_count": 8,
      "metadata": {
        "id": "x8WQ3O8WqpCJ"
      },
      "outputs": [],
      "source": [
        "# Convert target variable to binary\n",
        "data['target'] = data['target'].apply(lambda x: 0 if x == 0 else 1)"
      ]
    },
    {
      "cell_type": "code",
      "execution_count": 9,
      "metadata": {
        "id": "QFIFxpl2qrsj"
      },
      "outputs": [],
      "source": [
        "\n",
        "# Splitting features (X) and target variable (y)\n",
        "X = data.iloc[:, :-1]  # Features\n",
        "y = data['target']  # Target variable"
      ]
    },
    {
      "cell_type": "code",
      "execution_count": 10,
      "metadata": {
        "id": "bfQ3UtYIqvkF"
      },
      "outputs": [],
      "source": [
        "# Split into train and test sets\n",
        "X_train, X_test, y_train, y_test = train_test_split(X, y, test_size=0.3, random_state=42)"
      ]
    },
    {
      "cell_type": "code",
      "execution_count": 11,
      "metadata": {
        "id": "eNYInLN7q70F"
      },
      "outputs": [],
      "source": [
        "# Standardizing the features\n",
        "scaler = StandardScaler()\n",
        "X_train = scaler.fit_transform(X_train)\n",
        "X_test = scaler.transform(X_test)"
      ]
    },
    {
      "cell_type": "code",
      "execution_count": 12,
      "metadata": {},
      "outputs": [
        {
          "name": "stderr",
          "output_type": "stream",
          "text": [
            "[I 2025-02-11 16:37:01,724] A new study created in memory with name: no-name-268a0477-e79e-47ab-8083-abde01bf7aaf\n",
            "[I 2025-02-11 16:37:02,362] Trial 0 finished with value: 0.9448051948051948 and parameters: {'n_estimators': 159, 'max_depth': 40, 'min_samples_split': 4, 'min_samples_leaf': 4, 'bootstrap': True}. Best is trial 0 with value: 0.9448051948051948.\n",
            "[I 2025-02-11 16:37:02,816] Trial 1 finished with value: 0.9837662337662337 and parameters: {'n_estimators': 144, 'max_depth': 46, 'min_samples_split': 3, 'min_samples_leaf': 2, 'bootstrap': True}. Best is trial 1 with value: 0.9837662337662337.\n",
            "[I 2025-02-11 16:37:03,590] Trial 2 finished with value: 0.9902597402597403 and parameters: {'n_estimators': 283, 'max_depth': 21, 'min_samples_split': 2, 'min_samples_leaf': 1, 'bootstrap': True}. Best is trial 2 with value: 0.9902597402597403.\n",
            "[I 2025-02-11 16:37:03,812] Trial 3 finished with value: 0.9902597402597403 and parameters: {'n_estimators': 102, 'max_depth': 18, 'min_samples_split': 9, 'min_samples_leaf': 2, 'bootstrap': False}. Best is trial 2 with value: 0.9902597402597403.\n",
            "[I 2025-02-11 16:37:04,295] Trial 4 finished with value: 0.9902597402597403 and parameters: {'n_estimators': 161, 'max_depth': 45, 'min_samples_split': 2, 'min_samples_leaf': 1, 'bootstrap': True}. Best is trial 2 with value: 0.9902597402597403.\n",
            "[I 2025-02-11 16:37:05,162] Trial 5 finished with value: 0.9805194805194806 and parameters: {'n_estimators': 441, 'max_depth': 17, 'min_samples_split': 9, 'min_samples_leaf': 3, 'bootstrap': False}. Best is trial 2 with value: 0.9902597402597403.\n",
            "[I 2025-02-11 16:37:06,272] Trial 6 finished with value: 0.9577922077922078 and parameters: {'n_estimators': 412, 'max_depth': 34, 'min_samples_split': 2, 'min_samples_leaf': 3, 'bootstrap': True}. Best is trial 2 with value: 0.9902597402597403.\n",
            "[I 2025-02-11 16:37:06,834] Trial 7 finished with value: 0.9707792207792207 and parameters: {'n_estimators': 208, 'max_depth': 17, 'min_samples_split': 6, 'min_samples_leaf': 2, 'bootstrap': True}. Best is trial 2 with value: 0.9902597402597403.\n",
            "[I 2025-02-11 16:37:07,797] Trial 8 finished with value: 0.9805194805194806 and parameters: {'n_estimators': 357, 'max_depth': 43, 'min_samples_split': 3, 'min_samples_leaf': 2, 'bootstrap': True}. Best is trial 2 with value: 0.9902597402597403.\n",
            "[I 2025-02-11 16:37:08,232] Trial 9 finished with value: 0.9902597402597403 and parameters: {'n_estimators': 222, 'max_depth': 25, 'min_samples_split': 5, 'min_samples_leaf': 3, 'bootstrap': False}. Best is trial 2 with value: 0.9902597402597403.\n",
            "[I 2025-02-11 16:37:08,806] Trial 10 finished with value: 0.9512987012987013 and parameters: {'n_estimators': 278, 'max_depth': 27, 'min_samples_split': 7, 'min_samples_leaf': 5, 'bootstrap': False}. Best is trial 2 with value: 0.9902597402597403.\n",
            "[I 2025-02-11 16:37:09,446] Trial 11 finished with value: 0.9902597402597403 and parameters: {'n_estimators': 324, 'max_depth': 10, 'min_samples_split': 10, 'min_samples_leaf': 1, 'bootstrap': False}. Best is trial 2 with value: 0.9902597402597403.\n",
            "[I 2025-02-11 16:37:10,356] Trial 12 finished with value: 0.9805194805194806 and parameters: {'n_estimators': 484, 'max_depth': 20, 'min_samples_split': 8, 'min_samples_leaf': 1, 'bootstrap': False}. Best is trial 2 with value: 0.9902597402597403.\n",
            "[I 2025-02-11 16:37:10,851] Trial 13 finished with value: 0.9902597402597403 and parameters: {'n_estimators': 243, 'max_depth': 10, 'min_samples_split': 10, 'min_samples_leaf': 2, 'bootstrap': False}. Best is trial 2 with value: 0.9902597402597403.\n",
            "[I 2025-02-11 16:37:11,179] Trial 14 finished with value: 0.9805194805194806 and parameters: {'n_estimators': 106, 'max_depth': 22, 'min_samples_split': 7, 'min_samples_leaf': 1, 'bootstrap': True}. Best is trial 2 with value: 0.9902597402597403.\n",
            "[I 2025-02-11 16:37:11,899] Trial 15 finished with value: 0.9805194805194806 and parameters: {'n_estimators': 350, 'max_depth': 32, 'min_samples_split': 5, 'min_samples_leaf': 2, 'bootstrap': False}. Best is trial 2 with value: 0.9902597402597403.\n",
            "[I 2025-02-11 16:37:12,740] Trial 16 finished with value: 0.9448051948051948 and parameters: {'n_estimators': 278, 'max_depth': 15, 'min_samples_split': 8, 'min_samples_leaf': 4, 'bootstrap': True}. Best is trial 2 with value: 0.9902597402597403.\n",
            "[I 2025-02-11 16:37:13,051] Trial 17 finished with value: 0.9805194805194806 and parameters: {'n_estimators': 106, 'max_depth': 27, 'min_samples_split': 6, 'min_samples_leaf': 1, 'bootstrap': False}. Best is trial 2 with value: 0.9902597402597403.\n",
            "[I 2025-02-11 16:37:13,860] Trial 18 finished with value: 0.9805194805194806 and parameters: {'n_estimators': 392, 'max_depth': 21, 'min_samples_split': 9, 'min_samples_leaf': 2, 'bootstrap': False}. Best is trial 2 with value: 0.9902597402597403.\n",
            "[I 2025-02-11 16:37:14,410] Trial 19 finished with value: 0.9545454545454546 and parameters: {'n_estimators': 197, 'max_depth': 50, 'min_samples_split': 4, 'min_samples_leaf': 4, 'bootstrap': True}. Best is trial 2 with value: 0.9902597402597403.\n",
            "[I 2025-02-11 16:37:15,893] Trial 20 finished with value: 0.9805194805194806 and parameters: {'n_estimators': 494, 'max_depth': 35, 'min_samples_split': 8, 'min_samples_leaf': 1, 'bootstrap': True}. Best is trial 2 with value: 0.9902597402597403.\n",
            "[I 2025-02-11 16:37:16,415] Trial 21 finished with value: 0.9902597402597403 and parameters: {'n_estimators': 156, 'max_depth': 39, 'min_samples_split': 2, 'min_samples_leaf': 1, 'bootstrap': True}. Best is trial 2 with value: 0.9902597402597403.\n",
            "[I 2025-02-11 16:37:16,954] Trial 22 finished with value: 0.9805194805194806 and parameters: {'n_estimators': 180, 'max_depth': 14, 'min_samples_split': 3, 'min_samples_leaf': 1, 'bootstrap': True}. Best is trial 2 with value: 0.9902597402597403.\n",
            "[I 2025-02-11 16:37:17,335] Trial 23 finished with value: 0.9902597402597403 and parameters: {'n_estimators': 128, 'max_depth': 29, 'min_samples_split': 2, 'min_samples_leaf': 2, 'bootstrap': True}. Best is trial 2 with value: 0.9902597402597403.\n",
            "[I 2025-02-11 16:37:18,206] Trial 24 finished with value: 0.9902597402597403 and parameters: {'n_estimators': 265, 'max_depth': 20, 'min_samples_split': 4, 'min_samples_leaf': 1, 'bootstrap': True}. Best is trial 2 with value: 0.9902597402597403.\n",
            "[I 2025-02-11 16:37:18,843] Trial 25 finished with value: 0.9805194805194806 and parameters: {'n_estimators': 181, 'max_depth': 23, 'min_samples_split': 3, 'min_samples_leaf': 2, 'bootstrap': True}. Best is trial 2 with value: 0.9902597402597403.\n",
            "[I 2025-02-11 16:37:19,476] Trial 26 finished with value: 0.9805194805194806 and parameters: {'n_estimators': 312, 'max_depth': 14, 'min_samples_split': 5, 'min_samples_leaf': 1, 'bootstrap': False}. Best is trial 2 with value: 0.9902597402597403.\n",
            "[I 2025-02-11 16:37:20,082] Trial 27 finished with value: 0.9707792207792207 and parameters: {'n_estimators': 236, 'max_depth': 37, 'min_samples_split': 2, 'min_samples_leaf': 2, 'bootstrap': True}. Best is trial 2 with value: 0.9902597402597403.\n",
            "[I 2025-02-11 16:37:20,350] Trial 28 finished with value: 0.9805194805194806 and parameters: {'n_estimators': 118, 'max_depth': 48, 'min_samples_split': 7, 'min_samples_leaf': 3, 'bootstrap': False}. Best is trial 2 with value: 0.9902597402597403.\n",
            "[I 2025-02-11 16:37:20,775] Trial 29 finished with value: 0.9902597402597403 and parameters: {'n_estimators': 163, 'max_depth': 41, 'min_samples_split': 4, 'min_samples_leaf': 1, 'bootstrap': True}. Best is trial 2 with value: 0.9902597402597403.\n"
          ]
        },
        {
          "name": "stdout",
          "output_type": "stream",
          "text": [
            "Best Hyperparameters: {'n_estimators': 283, 'max_depth': 21, 'min_samples_split': 2, 'min_samples_leaf': 1, 'bootstrap': True}\n"
          ]
        }
      ],
      "source": [
        "def objective(trial):\n",
        "    n_estimators = trial.suggest_int(\"n_estimators\", 100, 500)\n",
        "    max_depth = trial.suggest_int(\"max_depth\", 10, 50)\n",
        "    min_samples_split = trial.suggest_int(\"min_samples_split\", 2, 10)\n",
        "    min_samples_leaf = trial.suggest_int(\"min_samples_leaf\", 1, 5)\n",
        "    bootstrap = trial.suggest_categorical(\"bootstrap\", [True, False])\n",
        "\n",
        "    model = RandomForestClassifier(\n",
        "        n_estimators=n_estimators, max_depth=max_depth,\n",
        "        min_samples_split=min_samples_split, min_samples_leaf=min_samples_leaf,\n",
        "        bootstrap=bootstrap, random_state=42, n_jobs=-1\n",
        "    )\n",
        "    \n",
        "    model.fit(X_train, y_train)\n",
        "    return accuracy_score(y_test, model.predict(X_test))\n",
        "\n",
        "study = optuna.create_study(direction=\"maximize\")\n",
        "study.optimize(objective, n_trials=30)\n",
        "\n",
        "print(f\"Best Hyperparameters: {study.best_params}\")\n"
      ]
    },
    {
      "cell_type": "code",
      "execution_count": 13,
      "metadata": {},
      "outputs": [
        {
          "name": "stdout",
          "output_type": "stream",
          "text": [
            "Optimized RF Accuracy: 99.03%\n",
            "              precision    recall  f1-score   support\n",
            "\n",
            "           0       0.98      1.00      0.99       159\n",
            "           1       1.00      0.98      0.99       149\n",
            "\n",
            "    accuracy                           0.99       308\n",
            "   macro avg       0.99      0.99      0.99       308\n",
            "weighted avg       0.99      0.99      0.99       308\n",
            "\n"
          ]
        }
      ],
      "source": [
        "# Extract the best hyperparameters\n",
        "best_params = study.best_params\n",
        "\n",
        "# Train the optimized Random Forest model\n",
        "optimized_rf = RandomForestClassifier(\n",
        "    n_estimators=best_params[\"n_estimators\"],\n",
        "    max_depth=best_params[\"max_depth\"],\n",
        "    min_samples_split=best_params[\"min_samples_split\"],\n",
        "    min_samples_leaf=best_params[\"min_samples_leaf\"],\n",
        "    bootstrap=best_params[\"bootstrap\"],\n",
        "    random_state=42,\n",
        "    n_jobs=-1\n",
        ")\n",
        "\n",
        "optimized_rf.fit(X_train, y_train)\n",
        "\n",
        "# Make predictions\n",
        "y_pred = optimized_rf.predict(X_test)\n",
        "\n",
        "# Evaluate performance\n",
        "accuracy = accuracy_score(y_test, y_pred)\n",
        "print(f\"Optimized RF Accuracy: {accuracy * 100:.2f}%\")\n",
        "print(classification_report(y_test, y_pred))\n"
      ]
    },
    {
      "cell_type": "code",
      "execution_count": null,
      "metadata": {
        "colab": {
          "base_uri": "https://localhost:8080/",
          "height": 564
        },
        "id": "SoASs3OBrhxb",
        "outputId": "134432d4-c3e9-4198-809d-42fcba844f2f"
      },
      "outputs": [],
      "source": [
        "# Save the best model\n",
        "with open(\"best_heart_disease_model.pkl\", \"wb\") as model_file:\n",
        "    pickle.dump(optimized_rf, model_file)"
      ]
    }
  ],
  "metadata": {
    "colab": {
      "provenance": []
    },
    "kernelspec": {
      "display_name": "Python 3",
      "name": "python3"
    },
    "language_info": {
      "codemirror_mode": {
        "name": "ipython",
        "version": 3
      },
      "file_extension": ".py",
      "mimetype": "text/x-python",
      "name": "python",
      "nbconvert_exporter": "python",
      "pygments_lexer": "ipython3",
      "version": "3.12.4"
    }
  },
  "nbformat": 4,
  "nbformat_minor": 0
}
